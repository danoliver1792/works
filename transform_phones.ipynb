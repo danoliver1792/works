{
  "nbformat": 4,
  "nbformat_minor": 0,
  "metadata": {
    "colab": {
      "provenance": []
    },
    "kernelspec": {
      "name": "python3",
      "display_name": "Python 3"
    },
    "language_info": {
      "name": "python"
    }
  },
  "cells": [
    {
      "cell_type": "code",
      "execution_count": 372,
      "metadata": {
        "id": "BQSHD88Nwd3K"
      },
      "outputs": [],
      "source": [
        "import pandas as pd\n",
        "from os import replace"
      ]
    },
    {
      "cell_type": "code",
      "source": [
        "df = pd.read_excel(\"contatos.xlsx\")\n",
        "df"
      ],
      "metadata": {
        "id": "vikZsvMlwmJe"
      },
      "execution_count": null,
      "outputs": []
    },
    {
      "cell_type": "code",
      "source": [
        "def transform_phone(phone):\n",
        "  phone = str(phone).replace(' ', '').replace('-', '')\n",
        "  phone = str(phone).replace('(', '').replace(')', '')\n",
        "\n",
        "  if phone.startswith('+55'):\n",
        "    return '55_' + phone[3:]\n",
        "\n",
        "  elif phone.startswith('041'):\n",
        "\n",
        "    if phone.startswith('04141'):\n",
        "      return '55_' + phone[3:]\n",
        "\n",
        "    elif phone.startswith('04147'):\n",
        "      return '55_' + phone[3:]\n",
        "\n",
        "    elif phone.startswith('0419'):\n",
        "      return '55_' + phone[1:]\n",
        "\n",
        "    elif phone.startswith('0413'):\n",
        "      return '55_' + phone[1:]\n",
        "\n",
        "  elif phone.startswith('015'):\n",
        "    return '55_' + phone[3:]\n",
        "\n",
        "  elif phone.startswith('0'):\n",
        "      return '55_' + phone[1:]\n",
        "\n",
        "  elif phone.startswith('9'):\n",
        "    return '55_41' + phone[1:]\n",
        "\n",
        "  elif phone.startswith('3'):\n",
        "    return '55_41' + phone\n",
        "\n",
        "  elif phone.startswith('41'):\n",
        "    return '55_' + phone\n",
        "\n",
        "  elif phone.startswith('42'):\n",
        "    return '55_' + phone\n",
        "\n",
        "  elif phone.startswith('43'):\n",
        "    return '55_' + phone\n",
        "\n",
        "  elif phone.startswith('71'):\n",
        "    return '55_' + phone\n",
        "\n",
        "  else:\n",
        "    return phone\n",
        "\n",
        "df['telefones'] = df['telefones'].apply(transform_phone)\n",
        "df.to_excel('contatos_transform.xlsx', index=False)\n"
      ],
      "metadata": {
        "id": "-hJ4CK3WwwHu"
      },
      "execution_count": 374,
      "outputs": []
    },
    {
      "cell_type": "markdown",
      "source": [
        "Teste com os números formatados"
      ],
      "metadata": {
        "id": "zrWGFbcH00mO"
      }
    },
    {
      "cell_type": "code",
      "source": [
        "df1 = pd.read_excel('contatos_transform.xlsx')\n",
        "df1"
      ],
      "metadata": {
        "id": "RF3sEfKM05Lc"
      },
      "execution_count": null,
      "outputs": []
    }
  ]
}